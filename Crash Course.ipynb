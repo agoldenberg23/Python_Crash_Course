{
 "cells": [
  {
   "cell_type": "markdown",
   "metadata": {},
   "source": [
    "Basic Computer Model\n",
    "\n",
    "Possessor - Runs the program\n",
    "\n",
    "Memory (RAM) - Temporary fast storage for the program to use immediately\n",
    "\n",
    "Storage (Hard Drive, Solid State, Flash Drive, Disks) - Slow permanent storage"
   ]
  },
  {
   "attachments": {
    "image.png": {
     "image/png": "[encoded data removed]"
    }
   },
   "cell_type": "markdown",
   "metadata": {},
   "source": [
    "![image.png](attachment:image.png)"
   ]
  },
  {
   "cell_type": "markdown",
   "metadata": {},
   "source": [
    "Coding languages - From low (close to binary) to high level\n",
    "\n",
    "Binary <- What the computer runs\n",
    "\n",
    "Assembly\n",
    "\n",
    "C <- What python is made in\n",
    "\n",
    "Java and C++\n",
    "\n",
    "Python <- What we are using\n",
    "\n",
    "Python tends to be easy to program in but slower running"
   ]
  },
  {
   "cell_type": "markdown",
   "metadata": {},
   "source": [
    "Notes on Jupyter Notebook\n",
    "\n",
    "Can separate your code into \"cells\" (why it is called a notebook). This allows you to run part of your code instead of all. Can be useful but can also be a risk. The notebook will remember parts of the previous run so running code out of order can cause errors. Avoid this by running your programs in order. When errors occur, you can clear the previously remembered runs by hitting \"Restart and Clear Output\" under the \"Kernel\" tab.\n",
    "\n",
    "We will use the different cells as different programs all together.  Include all needed parts for your program in the cell containing your program. Then we can run the program without these notebook oddities."
   ]
  },
  {
   "cell_type": "markdown",
   "metadata": {},
   "source": [
    "Style\n",
    "\n",
    "There are style documents online that dictate good coding style. We will go over a common good style. Practicing this will keep your code easy to read and well organized."
   ]
  },
  {
   "cell_type": "markdown",
   "metadata": {},
   "source": [
    "Good place to find practice problems (some will be done here. Note that this uses lists, we will be using arrays (better).\n",
    "\n",
    "https://codingbat.com/python\n",
    "\n",
    "https://www.practicepython.org/exercises/"
   ]
  },
  {
   "cell_type": "code",
   "execution_count": 17,
   "metadata": {},
   "outputs": [],
   "source": [
    "#This is a comment\n",
    "#The program will not run any code after '#'\n",
    "#This is used to add notes to your program to make it easier to read\n",
    "#Comments are also a good way to create a draft of what you need to code"
   ]
  },
  {
   "cell_type": "code",
   "execution_count": 6,
   "metadata": {},
   "outputs": [],
   "source": [
    "#Imports\n",
    "#Standard library is always already imported\n",
    "import math\n",
    "import numpy as np\n",
    "import matplotlib.pyplot as plt\n",
    "import scipy"
   ]
  },
  {
   "cell_type": "code",
   "execution_count": 16,
   "metadata": {},
   "outputs": [],
   "source": [
    "#Data Types\n",
    "\n",
    "#Numbers (int, float, double)\n",
    "int1 = 2\n",
    "int2 = 9\n",
    "OEIHPF73oijaef = 4\n",
    "float1 = 2.984\n",
    "\n",
    "#Char and string (from ascii table (or unicode))\n",
    "char1 = 'a'\n",
    "string1 = \"abcDe\"\n",
    "\n",
    "#Booleans\n",
    "boolean1 = True\n",
    "boolean2 = False\n",
    "\n",
    "#Assignments\n",
    "int1 = 9\n",
    "string1 = \"This is a string\"\n",
    "\n",
    "#Casts int(), str()\n",
    "floatToInt = int(float1)\n",
    "intToString = str(int1)\n",
    "stringToFloat = float(\"29.3921\")"
   ]
  },
  {
   "cell_type": "markdown",
   "metadata": {},
   "source": [
    "Names can be any number of characters but NOT spaces (\" \"). Common techniques are to use uppercase to separate words or use \"_\".\n",
    "\n",
    "varName\n",
    "\n",
    "var_name\n",
    "\n",
    "Names should be descriptive. The goal is to have an idea of what the variable is just from the name alone. But you will need to retype a name multiple times, so you do not want the name to be too long. Note that we do NOT want to name our variables the same as a function. This will get confusing and is a bad practice that python should not but does allow."
   ]
  },
  {
   "cell_type": "markdown",
   "metadata": {},
   "source": [
    "Python data types are dynamic. It will change to the form needed to hold the most amount of information. For instance, an integer added to a float (has a decimal) will result in a float. Adding two integers that results in a number larger than a single integer can hold will change the variable type to a type that can hold it (if it exists) (integer to a double for instance). You can force a data type if wanted with numpy, documentation bellow. This is often not needed.\n",
    "\n",
    "https://docs.scipy.org/doc/numpy-1.15.0/user/basics.types.html"
   ]
  },
  {
   "cell_type": "markdown",
   "metadata": {},
   "source": [
    "Basic operations\n",
    "\n",
    "Print Statements use the print() function to have your program output any variable."
   ]
  },
  {
   "cell_type": "code",
   "execution_count": 7,
   "metadata": {},
   "outputs": [
    {
     "name": "stdout",
     "output_type": "stream",
     "text": [
      "28\n"
     ]
    }
   ],
   "source": [
    "print(28)"
   ]
  },
  {
   "cell_type": "code",
   "execution_count": 8,
   "metadata": {},
   "outputs": [
    {
     "name": "stdout",
     "output_type": "stream",
     "text": [
      "This is a print statement\n"
     ]
    }
   ],
   "source": [
    "print(\"This is a print statement\")"
   ]
  },
  {
   "cell_type": "code",
   "execution_count": 3,
   "metadata": {},
   "outputs": [
    {
     "name": "stdout",
     "output_type": "stream",
     "text": [
      "9\n"
     ]
    }
   ],
   "source": [
    "print(int1)"
   ]
  },
  {
   "cell_type": "code",
   "execution_count": 4,
   "metadata": {},
   "outputs": [
    {
     "name": "stdout",
     "output_type": "stream",
     "text": [
      "2.984\n"
     ]
    }
   ],
   "source": [
    "print(float1)"
   ]
  },
  {
   "cell_type": "code",
   "execution_count": 5,
   "metadata": {},
   "outputs": [
    {
     "name": "stdout",
     "output_type": "stream",
     "text": [
      "a\n"
     ]
    }
   ],
   "source": [
    "print(char1)"
   ]
  },
  {
   "cell_type": "code",
   "execution_count": 6,
   "metadata": {},
   "outputs": [
    {
     "name": "stdout",
     "output_type": "stream",
     "text": [
      "This is a string\n"
     ]
    }
   ],
   "source": [
    "print(string1)"
   ]
  },
  {
   "cell_type": "markdown",
   "metadata": {},
   "source": [
    "The + operator adds things together. Obvious for numbers but not for other variables.\n",
    "\n",
    "Will combine characters and strings together into one larger string."
   ]
  },
  {
   "cell_type": "code",
   "execution_count": 9,
   "metadata": {},
   "outputs": [
    {
     "name": "stdout",
     "output_type": "stream",
     "text": [
      "5\n"
     ]
    }
   ],
   "source": [
    "print(1 + 4)"
   ]
  },
  {
   "cell_type": "code",
   "execution_count": 10,
   "metadata": {},
   "outputs": [
    {
     "name": "stdout",
     "output_type": "stream",
     "text": [
      "Beggining end\n"
     ]
    }
   ],
   "source": [
    "print(\"Beggining\" + \" \" + \"end\")"
   ]
  },
  {
   "cell_type": "markdown",
   "metadata": {},
   "source": [
    "Note that the print statement needs the thing you give it to be a string. If there is only one thing, then it can make it a string without anything needed from you."
   ]
  },
  {
   "cell_type": "code",
   "execution_count": 11,
   "metadata": {},
   "outputs": [
    {
     "name": "stdout",
     "output_type": "stream",
     "text": [
      "My number = 49\n"
     ]
    }
   ],
   "source": [
    "print(\"My number = \" + str(49))"
   ]
  },
  {
   "cell_type": "code",
   "execution_count": 12,
   "metadata": {},
   "outputs": [
    {
     "name": "stdout",
     "output_type": "stream",
     "text": [
      "2\n"
     ]
    }
   ],
   "source": [
    "print(True + True)"
   ]
  },
  {
   "cell_type": "code",
   "execution_count": 14,
   "metadata": {},
   "outputs": [
    {
     "name": "stdout",
     "output_type": "stream",
     "text": [
      "12.93\n"
     ]
    }
   ],
   "source": [
    "print(4 + 8.93)"
   ]
  },
  {
   "cell_type": "code",
   "execution_count": 15,
   "metadata": {},
   "outputs": [
    {
     "name": "stdout",
     "output_type": "stream",
     "text": [
      "12\n"
     ]
    }
   ],
   "source": [
    "print(4 + int(8.93))"
   ]
  },
  {
   "cell_type": "markdown",
   "metadata": {},
   "source": [
    "'-', '/' and '*' is subtraction, division and multiplication respectively.\n",
    "\n",
    "() can be used to designate order of operations.\n",
    "\n",
    "'%' gets th mod or remainder (division)"
   ]
  },
  {
   "cell_type": "code",
   "execution_count": 8,
   "metadata": {},
   "outputs": [
    {
     "name": "stdout",
     "output_type": "stream",
     "text": [
      "-0.6200000000000001\n"
     ]
    }
   ],
   "source": [
    "print(4.38 - 6 + 1)"
   ]
  },
  {
   "cell_type": "code",
   "execution_count": 2,
   "metadata": {},
   "outputs": [
    {
     "name": "stdout",
     "output_type": "stream",
     "text": [
      "1.3333333333333333\n"
     ]
    }
   ],
   "source": [
    "print(4/3)"
   ]
  },
  {
   "cell_type": "code",
   "execution_count": 4,
   "metadata": {},
   "outputs": [
    {
     "name": "stdout",
     "output_type": "stream",
     "text": [
      "10\n"
     ]
    }
   ],
   "source": [
    "print(2 * 5)"
   ]
  },
  {
   "cell_type": "code",
   "execution_count": 22,
   "metadata": {},
   "outputs": [
    {
     "name": "stdout",
     "output_type": "stream",
     "text": [
      "1\n"
     ]
    }
   ],
   "source": [
    "print(9%2)"
   ]
  },
  {
   "cell_type": "markdown",
   "metadata": {},
   "source": [
    "Input statements take in user information. Will save the user input as a string (use a cast to turn into a different type)."
   ]
  },
  {
   "cell_type": "code",
   "execution_count": 1,
   "metadata": {},
   "outputs": [
    {
     "name": "stdout",
     "output_type": "stream",
     "text": [
      "give input: iuhcsa;uiojh;aschuoi23\n",
      "iuhcsa;uiojh;aschuoi23\n"
     ]
    }
   ],
   "source": [
    "userInput = input(\"give input: \")\n",
    "print(userInput)"
   ]
  },
  {
   "cell_type": "markdown",
   "metadata": {},
   "source": [
    "Exercise 1]\n",
    "\n",
    "Use input to take in the user's name, the current year and the year that they were born.\n",
    "\n",
    "Output the following line: \"Hi [User's name], you are [the user's age] years old now.\""
   ]
  },
  {
   "cell_type": "markdown",
   "metadata": {},
   "source": [
    "Use a file reader and writer to use the computer's storage. Save the results of a run and/or take in data.\n",
    "\n",
    "First create the file reader or writer object and then you use it.\n",
    "\n",
    "When you are done, delete the reader or writer object."
   ]
  },
  {
   "cell_type": "code",
   "execution_count": 2,
   "metadata": {},
   "outputs": [],
   "source": [
    "#\"w\" is for writing (will replace what was there)\n",
    "#\"a\" appends all additions to the end of the file\n",
    "file = open(\"testFile.txt\", \"w\")\n",
    "file.write(\"text\")\n",
    "file.write(\" this is an example \")\n",
    "file.write(\"More example file writing\")\n",
    "#The \\n string combo is a new line comand\n",
    "file.write(\"\\nThis is a new line\")\n",
    "file.close()"
   ]
  },
  {
   "cell_type": "code",
   "execution_count": 3,
   "metadata": {},
   "outputs": [
    {
     "name": "stdout",
     "output_type": "stream",
     "text": [
      "text this is an example More example file writing\n",
      "This is a new line\n"
     ]
    }
   ],
   "source": [
    "#\"r\" is for reading\n",
    "file = open(\"testFile.txt\", \"r\")\n",
    "line = file.read() #This reads the entire file\n",
    "print(line)\n",
    "file.close()"
   ]
  },
  {
   "cell_type": "code",
   "execution_count": 18,
   "metadata": {},
   "outputs": [
    {
     "name": "stdout",
     "output_type": "stream",
     "text": [
      "Line 1 = text this is an example More example file writing\n",
      "\n",
      "Line 2 = This is a new line\n"
     ]
    }
   ],
   "source": [
    "#\"r\" is for reading\n",
    "file = open(\"testFile.txt\", \"r\")\n",
    "line = file.readline() #This reads one line at a time\n",
    "print(\"Line 1 = \" + line)\n",
    "line = file.readline()\n",
    "print(\"Line 2 = \" + line)\n",
    "file.close()"
   ]
  },
  {
   "cell_type": "markdown",
   "metadata": {},
   "source": [
    "Exercise 2]\n",
    "\n",
    "Write two programs:\n",
    "\n",
    "First: Use input to take in the user's name, the current year and the year that they were born. Save their name and their age in a file using append in the following format: \n",
    "\n",
    "name age\n",
    "\n",
    "name age\n",
    "\n",
    "Second: Write a program that reads in the file created by the first program and prints out the file."
   ]
  },
  {
   "cell_type": "markdown",
   "metadata": {},
   "source": [
    "Exercise 3]\n",
    "\n",
    "Create a code that takes two data type and swaps the two values.\n",
    "\n",
    "Hint: Start with only integers then think how it can be made to work with all."
   ]
  },
  {
   "cell_type": "markdown",
   "metadata": {},
   "source": [
    "Side notes on tuples. They are a way to hold exactly two variables together. Think of graphing in the xy plane. You need a number for the x value and a number for the y value. This is occasionally used for functions.\n",
    "\n",
    "This is in the form (dataType1, dataType2)\n",
    "\n",
    "this does not need to be the same data type but can be."
   ]
  },
  {
   "cell_type": "code",
   "execution_count": 4,
   "metadata": {},
   "outputs": [
    {
     "name": "stdout",
     "output_type": "stream",
     "text": [
      "('String here', 29.43)\n",
      "(39.353, 24)\n",
      "String here\n",
      "29.43\n"
     ]
    }
   ],
   "source": [
    "a = (\"String here\", 29.43)\n",
    "print(a)\n",
    "\n",
    "b = (39.353, 24)\n",
    "print(b)\n",
    "\n",
    "#Get a specific part of the tuple\n",
    "stringPart, floatPart = a\n",
    "print(stringPart)\n",
    "print(floatPart)"
   ]
  },
  {
   "cell_type": "markdown",
   "metadata": {},
   "source": [
    "Arrays\n",
    "\n",
    "Hold many of a data type instead of just one. Often you do not need one float, you need, say, 100 or more floats.\n",
    "\n",
    "Two types. Python lists and numpy arrays (is a C array). Python lists are less efficient then numpy arrays and some functions will require numpy arrays, so they are better most of the time.\n",
    "\n",
    "numpy arrays\n",
    "\n",
    "Reminder that you need to import numpy as np at the beginning of the code.\n",
    "\n",
    "You need to set the length or number of variables when you make the array. There are many ways to make a numpy array (see the docs), mostly to change the initial values in the array."
   ]
  },
  {
   "cell_type": "code",
   "execution_count": 27,
   "metadata": {},
   "outputs": [
    {
     "name": "stdout",
     "output_type": "stream",
     "text": [
      "[  1   2   3   4 182]\n",
      "[  1   2   5   4 182]\n"
     ]
    }
   ],
   "source": [
    "import numpy as np\n",
    "\n",
    "#An array of length 5 that holds intigers\n",
    "arr = np.array([1, 2, 3, 4, 182])\n",
    "print(arr)\n",
    "\n",
    "arr[2] = 5.73\n",
    "print(arr)"
   ]
  },
  {
   "cell_type": "code",
   "execution_count": 31,
   "metadata": {},
   "outputs": [
    {
     "name": "stdout",
     "output_type": "stream",
     "text": [
      "[ True False  True]\n"
     ]
    }
   ],
   "source": [
    "#An array of length 5 that holds floats\n",
    "arr = np.array([True, False, True])\n",
    "print(arr)"
   ]
  },
  {
   "cell_type": "code",
   "execution_count": 29,
   "metadata": {},
   "outputs": [
    {
     "name": "stdout",
     "output_type": "stream",
     "text": [
      "[0. 0. 0. 0. 0. 0. 0. 0. 0. 0. 0. 0. 0. 0. 0. 0. 0. 0. 0. 0. 0. 0. 0. 0.\n",
      " 0. 0. 0. 0. 0. 0. 0. 0. 0. 0. 0. 0. 0. 0. 0. 0. 0. 0. 0. 0. 0. 0. 0. 0.\n",
      " 0. 0. 0. 0. 0. 0. 0. 0. 0. 0. 0. 0. 0. 0. 0. 0. 0. 0. 0. 0. 0. 0. 0. 0.\n",
      " 0. 0. 0. 0. 0. 0. 0. 0. 0. 0. 0. 0. 0. 0. 0. 0. 0. 0. 0. 0. 0. 0. 0. 0.\n",
      " 0. 0. 0. 0.]\n"
     ]
    }
   ],
   "source": [
    "#An array of length 100 that holds double precision floats (default)\n",
    "#This will initialize the array to 0 for each variable\n",
    "#Different functions can change the initial values\n",
    "arr = np.zeros(100)\n",
    "\n",
    "print(arr)"
   ]
  },
  {
   "cell_type": "code",
   "execution_count": 36,
   "metadata": {},
   "outputs": [
    {
     "name": "stdout",
     "output_type": "stream",
     "text": [
      "[False False False False False False False False False False]\n"
     ]
    }
   ],
   "source": [
    "#Can change the data type (double precision float by default)\n",
    "arr = np.zeros(10, dtype=\"bool_\")\n",
    "\n",
    "print(arr)"
   ]
  },
  {
   "cell_type": "code",
   "execution_count": 34,
   "metadata": {},
   "outputs": [
    {
     "name": "stdout",
     "output_type": "stream",
     "text": [
      "[0 0 0 0 0 0 0 0 0 0]\n"
     ]
    }
   ],
   "source": [
    "#Can change the data type (double precision float by default)\n",
    "arr = np.zeros(10, dtype=\"int32\")\n",
    "\n",
    "print(arr)"
   ]
  },
  {
   "cell_type": "markdown",
   "metadata": {},
   "source": [
    "Python Lists\n",
    "\n",
    "Often not as useful as NumPy arrays but has the advantage of having a variable length and additional functions."
   ]
  },
  {
   "cell_type": "code",
   "execution_count": 38,
   "metadata": {},
   "outputs": [
    {
     "name": "stdout",
     "output_type": "stream",
     "text": [
      "[1, 2, 912]\n",
      "[1, 2, 912, 29]\n",
      "[2, 912, 29]\n"
     ]
    }
   ],
   "source": [
    "list = [1, 2, 912]\n",
    "print(list)\n",
    "\n",
    "#Adds the number 29 to the end of the list\n",
    "list.append(29)\n",
    "print(list)\n",
    "\n",
    "#Removes the first instance of the number 1\n",
    "list.remove(1)\n",
    "print(list)"
   ]
  },
  {
   "cell_type": "code",
   "execution_count": 42,
   "metadata": {},
   "outputs": [
    {
     "name": "stdout",
     "output_type": "stream",
     "text": [
      "range(0, 10)\n",
      "1\n"
     ]
    }
   ],
   "source": [
    "#A \"lazy\" list\n",
    "list = range(0,10,1)\n",
    "print(list)\n",
    "print(list[1])"
   ]
  },
  {
   "cell_type": "code",
   "execution_count": 40,
   "metadata": {},
   "outputs": [
    {
     "name": "stdout",
     "output_type": "stream",
     "text": [
      "c\n"
     ]
    }
   ],
   "source": [
    "#A string is a list of characters\n",
    "string = \"abc\"\n",
    "print(string[2])"
   ]
  },
  {
   "cell_type": "markdown",
   "metadata": {},
   "source": [
    "There is a thing called list comprehension. Basically, it takes a few lines and turns it into a single more complex line. If the numpy array is used correctly, then there is not advantage to this, so we will avoid it for this course.\n",
    "\n",
    "Less lines do NOT mean a faster, easier to read or otherwise better code. Using multiple lines smartly will always be better than a few dumb lines."
   ]
  },
  {
   "cell_type": "markdown",
   "metadata": {},
   "source": [
    "Multi-Dimensional Arrays\n",
    "\n",
    "Can make an array of anything. Even an array of arrays. This is a 2D array. An array of arrays of arrays is a 3D array. Can have more but becomes less useful and harder to print."
   ]
  },
  {
   "cell_type": "code",
   "execution_count": 45,
   "metadata": {},
   "outputs": [
    {
     "name": "stdout",
     "output_type": "stream",
     "text": [
      "[[0. 0. 0. 0. 0.]\n",
      " [0. 0. 0. 0. 0.]\n",
      " [0. 0. 0. 0. 0.]]\n",
      "[[0. 0. 0. 1. 0.]\n",
      " [0. 0. 2. 0. 0.]\n",
      " [0. 0. 0. 0. 0.]]\n"
     ]
    }
   ],
   "source": [
    "arr = np.zeros((3,5))\n",
    "print(arr)\n",
    "arr[1][2] = 2\n",
    "arr[0][3] = 1\n",
    "print(arr)"
   ]
  },
  {
   "cell_type": "markdown",
   "metadata": {},
   "source": [
    "Can get an array out of the array of arrays."
   ]
  },
  {
   "cell_type": "code",
   "execution_count": 70,
   "metadata": {},
   "outputs": [
    {
     "name": "stdout",
     "output_type": "stream",
     "text": [
      "[[0. 0. 0. 1. 0.]\n",
      " [0. 0. 2. 0. 0.]\n",
      " [0. 0. 0. 0. 0.]]\n",
      "[0. 0. 2. 0. 0.]\n",
      "[0. 0. 2. 0. 0.]\n"
     ]
    }
   ],
   "source": [
    "arr = np.zeros((3,5))\n",
    "arr[1][2] = 2\n",
    "arr[0][3] = 1\n",
    "print(arr)\n",
    "arrPart = arr[1]\n",
    "print(arrPart)\n",
    "#Same as the previous two lines if you do not need to save the part\n",
    "print(arr[1])"
   ]
  },
  {
   "cell_type": "markdown",
   "metadata": {},
   "source": [
    "Split or slice the array the other way."
   ]
  },
  {
   "cell_type": "code",
   "execution_count": 18,
   "metadata": {},
   "outputs": [
    {
     "name": "stdout",
     "output_type": "stream",
     "text": [
      "[0. 2. 0.]\n"
     ]
    }
   ],
   "source": [
    "arr = np.zeros((3,5))\n",
    "arr[1][2] = 2\n",
    "arr[0][3] = 1\n",
    "print(arr[:,2])"
   ]
  },
  {
   "cell_type": "markdown",
   "metadata": {},
   "source": [
    "More ways to get parts of an array.\n",
    "\n",
    "https://www.pythoncentral.io/how-to-slice-listsarrays-and-tuples-in-python/"
   ]
  },
  {
   "cell_type": "markdown",
   "metadata": {},
   "source": [
    "Common functions in the standard library\n",
    "\n",
    "len()\n",
    "\n",
    "Gets the length of the array, list or string."
   ]
  },
  {
   "cell_type": "code",
   "execution_count": 7,
   "metadata": {},
   "outputs": [
    {
     "name": "stdout",
     "output_type": "stream",
     "text": [
      "5\n"
     ]
    }
   ],
   "source": [
    "arr = np.array([94,2,23,4,29])\n",
    "print(len(arr))"
   ]
  },
  {
   "cell_type": "markdown",
   "metadata": {},
   "source": [
    "string.split(\" \")\n",
    "\n",
    "Splits a string into a list of smaller strings split by the character(s) specified."
   ]
  },
  {
   "cell_type": "code",
   "execution_count": 9,
   "metadata": {},
   "outputs": [
    {
     "name": "stdout",
     "output_type": "stream",
     "text": [
      "abc\n",
      "hi\n",
      "this\n",
      "pie\n"
     ]
    }
   ],
   "source": [
    "string = \"abc hi this pie\"\n",
    "stringSplit = string.split(\" \")\n",
    "print(stringSplit[0])\n",
    "print(stringSplit[1])\n",
    "print(stringSplit[2])\n",
    "print(stringSplit[3])"
   ]
  },
  {
   "cell_type": "code",
   "execution_count": 11,
   "metadata": {},
   "outputs": [
    {
     "name": "stdout",
     "output_type": "stream",
     "text": [
      "abc  th\n",
      "hi\n",
      "this\n",
      "pie\n"
     ]
    }
   ],
   "source": [
    "string = \"abc  th, hi, this, pie\"\n",
    "stringSplit = string.split(\", \")\n",
    "print(stringSplit[0])\n",
    "print(stringSplit[1])\n",
    "print(stringSplit[2])\n",
    "print(stringSplit[3])"
   ]
  },
  {
   "cell_type": "code",
   "execution_count": 15,
   "metadata": {},
   "outputs": [
    {
     "name": "stdout",
     "output_type": "stream",
     "text": [
      "93.283\n"
     ]
    }
   ],
   "source": [
    "#Lets say this is a line from a file\n",
    "line = \"29.4821 93.283 2843.293\"\n",
    "line = line.split(\" \")\n",
    "print(float(line[1]))"
   ]
  },
  {
   "cell_type": "markdown",
   "metadata": {},
   "source": [
    "\" \".join(stringList)\n",
    "\n",
    "Combines an array of strings into one string separated by the character(s) specified."
   ]
  },
  {
   "cell_type": "code",
   "execution_count": 12,
   "metadata": {},
   "outputs": [
    {
     "name": "stdout",
     "output_type": "stream",
     "text": [
      "abc  th+-+hi+-+this+-+pie\n"
     ]
    }
   ],
   "source": [
    "string = \"abc  th, hi, this, pie\"\n",
    "stringSplit = string.split(\", \")\n",
    "string = \"+-+\".join(stringSplit)\n",
    "print(string)"
   ]
  },
  {
   "cell_type": "markdown",
   "metadata": {},
   "source": [
    "string.strip()\n",
    "\n",
    "Removes spaces at the end of a string and resizes it."
   ]
  },
  {
   "cell_type": "code",
   "execution_count": 13,
   "metadata": {},
   "outputs": [
    {
     "name": "stdout",
     "output_type": "stream",
     "text": [
      "abc  th, hi, this, pie   \n",
      "ta  \n",
      "abc  th, hi, this, pie   \n",
      "ta\n"
     ]
    }
   ],
   "source": [
    "string = \"abc  th, hi, this, pie   \\nta  \"\n",
    "print(string)\n",
    "print(string.strip())"
   ]
  },
  {
   "cell_type": "markdown",
   "metadata": {},
   "source": [
    "Boolean Logic\n",
    "\n",
    "General Use\n",
    "\n",
    "Equals: ==\n",
    "\n",
    "Returns True if the two variables on each side of the equals sign are equal.\n",
    "\n",
    "Not Equals: !=\n",
    "\n",
    "Less then: <\n",
    "\n",
    "Less than or equal to: <=\n",
    "\n",
    "Greater then: >\n",
    "\n",
    "Greater than or equal to: >=\n",
    "\n",
    "Boolean Operators\n",
    "\n",
    "And: and\n",
    "\n",
    "Returns True if both booleans on either side of and are True and False otherwise.\n",
    "\n",
    "Or (inclusive in English): or\n",
    "\n",
    "Returns True if either of the booleans on either side are True and False otherwise."
   ]
  },
  {
   "cell_type": "code",
   "execution_count": 2,
   "metadata": {},
   "outputs": [
    {
     "name": "stdout",
     "output_type": "stream",
     "text": [
      "True\n"
     ]
    }
   ],
   "source": [
    "print(3 == 3)"
   ]
  },
  {
   "cell_type": "code",
   "execution_count": 3,
   "metadata": {},
   "outputs": [
    {
     "name": "stdout",
     "output_type": "stream",
     "text": [
      "False\n"
     ]
    }
   ],
   "source": [
    "print(3 == 10)"
   ]
  },
  {
   "cell_type": "code",
   "execution_count": 4,
   "metadata": {},
   "outputs": [
    {
     "name": "stdout",
     "output_type": "stream",
     "text": [
      "False\n"
     ]
    }
   ],
   "source": [
    "print(True and False)"
   ]
  },
  {
   "cell_type": "code",
   "execution_count": 5,
   "metadata": {},
   "outputs": [
    {
     "name": "stdout",
     "output_type": "stream",
     "text": [
      "True\n"
     ]
    }
   ],
   "source": [
    "print(True or False)"
   ]
  },
  {
   "cell_type": "markdown",
   "metadata": {},
   "source": [
    "Conditional Statements\n",
    "\n",
    "This is how you vary what the program does each run depending on input.\n",
    "\n",
    "if\n",
    "\n",
    "    Will run the code in the if statement if the condition is true.\n",
    "    \n",
    "if else: elif\n",
    "\n",
    "    Will run the code in the if else statement if the conditional true and the previous if statement is false.\n",
    "    \n",
    "else\n",
    "\n",
    "    Will run the code in the else statement if the previous if else and if statements are false."
   ]
  },
  {
   "cell_type": "code",
   "execution_count": 9,
   "metadata": {},
   "outputs": [
    {
     "name": "stdout",
     "output_type": "stream",
     "text": [
      "False\n"
     ]
    }
   ],
   "source": [
    "a = False\n",
    "if(a == True):\n",
    "    print(\"a = true\")\n",
    "print(a)"
   ]
  },
  {
   "cell_type": "code",
   "execution_count": 8,
   "metadata": {},
   "outputs": [
    {
     "name": "stdout",
     "output_type": "stream",
     "text": [
      "a = true\n",
      "True\n"
     ]
    }
   ],
   "source": [
    "a = True\n",
    "if(a == True):\n",
    "    print(\"a = true\")\n",
    "print(a)"
   ]
  },
  {
   "cell_type": "code",
   "execution_count": 5,
   "metadata": {},
   "outputs": [
    {
     "name": "stdout",
     "output_type": "stream",
     "text": [
      "a < 10\n",
      "1\n"
     ]
    }
   ],
   "source": [
    "a = 1\n",
    "if(a < 10):\n",
    "    print(\"a < 10\")\n",
    "elif(a < 20):\n",
    "    print(\"a < 20\")\n",
    "elif(a < 30):\n",
    "    print(\"a < 30\")\n",
    "else:\n",
    "    print(\"a >= 30\")\n",
    "    \n",
    "print(a)"
   ]
  },
  {
   "cell_type": "markdown",
   "metadata": {},
   "source": [
    "Exercise 4]\n",
    "\n",
    "Write a code that uses 3 integers, a, b and c. Sum any numbers that are not the same as another one and print the sum. For instance, \n",
    "\n",
    "1, 2, 3 gives 6\n",
    "\n",
    "1, 2, 2 gives 1\n",
    "\n",
    "and 3, 3, 3 gives 0"
   ]
  },
  {
   "cell_type": "markdown",
   "metadata": {},
   "source": [
    "Exercise 5]\n",
    "\n",
    "You are given a line segment by its x and y coordinates of its two end points.\n",
    "\n",
    "x1 = 9\n",
    "\n",
    "y1 = 7\n",
    "\n",
    "x2 = 1\n",
    "\n",
    "y2 = 4\n",
    "\n",
    "You are also given a circle by the x and y coordinate of its center and its radius.\n",
    "\n",
    "xc = 5\n",
    "\n",
    "yc = 6\n",
    "\n",
    "radius = 4\n",
    "\n",
    "Make a program that takes this line and this circle and outputs whether the line segment is within the circle. Try changing the values to check your program.\n",
    "\n",
    "Hint: inside of the math library is math.sqrt()\n",
    "\n",
    "You will need it or the distance formula."
   ]
  },
  {
   "cell_type": "code",
   "execution_count": 14,
   "metadata": {},
   "outputs": [
    {
     "name": "stdout",
     "output_type": "stream",
     "text": [
      "Inside if statement\n",
      "Inside nested\n",
      "Left Nested\n",
      "Left if statement\n"
     ]
    }
   ],
   "source": [
    "a = \"Hellow\"\n",
    "b = True\n",
    "\n",
    "if(a == \"Hellow\"):\n",
    "    print(\"Inside if statement\")\n",
    "    if(b == True):\n",
    "        print(\"Inside nested\")\n",
    "    print(\"Left Nested\")\n",
    "print(\"Left if statement\")"
   ]
  },
  {
   "cell_type": "markdown",
   "metadata": {},
   "source": [
    "Can check if an element is inside of an array or list with a special if statement."
   ]
  },
  {
   "cell_type": "code",
   "execution_count": 51,
   "metadata": {},
   "outputs": [
    {
     "name": "stdout",
     "output_type": "stream",
     "text": [
      "true\n"
     ]
    }
   ],
   "source": [
    "arr = np.array([1,2,45])\n",
    "\n",
    "if 2 in arr:\n",
    "    print(\"true\")"
   ]
  },
  {
   "cell_type": "markdown",
   "metadata": {},
   "source": [
    "Loops\n",
    "\n",
    "while(condition):\n",
    "\n",
    "This runs the code inside the while loop if the condition is true (like an if statement). Will repeat the code until the condition is false."
   ]
  },
  {
   "cell_type": "code",
   "execution_count": 19,
   "metadata": {},
   "outputs": [
    {
     "name": "stdout",
     "output_type": "stream",
     "text": [
      "0\n",
      "1\n",
      "2\n",
      "3\n",
      "4\n",
      "5\n",
      "6\n",
      "7\n",
      "8\n",
      "9\n"
     ]
    }
   ],
   "source": [
    "a = 0\n",
    "while(a < 10):\n",
    "    print(a)\n",
    "    a = a + 1"
   ]
  },
  {
   "cell_type": "markdown",
   "metadata": {},
   "source": [
    "Exercise 6]\n",
    "\n",
    "Create a guessing game. Your code has a hard coadded (preset) number the user wants to guess. The user gives a guess and the computer tells them if they are two low, too high or correct. Once they are correct, give the number of tries it took them to get the correct number."
   ]
  },
  {
   "cell_type": "markdown",
   "metadata": {},
   "source": [
    "for name in range(start, end, increment):\n",
    "\n",
    "Will run the code in the for loop a set number of times with the variable name changing each time. name starts with the number start, is changed by increment each time and the loop ends when name hits end."
   ]
  },
  {
   "cell_type": "code",
   "execution_count": 16,
   "metadata": {},
   "outputs": [
    {
     "name": "stdout",
     "output_type": "stream",
     "text": [
      "0\n",
      "1\n",
      "2\n",
      "3\n",
      "4\n",
      "5\n",
      "6\n",
      "7\n",
      "8\n",
      "9\n"
     ]
    }
   ],
   "source": [
    "for a in range(0, 10, 1):\n",
    "    print(a)"
   ]
  },
  {
   "cell_type": "markdown",
   "metadata": {},
   "source": [
    "Exercise 7]\n",
    "\n",
    "Write a function that takes in a positive integer and prints all of the numbers that is a devisor of the integer."
   ]
  },
  {
   "cell_type": "markdown",
   "metadata": {},
   "source": [
    "Can use a for loop to iterate through a list or array. The first way bellow is often the most useful."
   ]
  },
  {
   "cell_type": "code",
   "execution_count": 49,
   "metadata": {},
   "outputs": [
    {
     "name": "stdout",
     "output_type": "stream",
     "text": [
      "1\n",
      "28\n",
      "482\n",
      "193\n"
     ]
    }
   ],
   "source": [
    "arr = np.array([1, 28, 482, 193])\n",
    "\n",
    "for i in range(0, len(arr), 1):\n",
    "    print(arr[i])"
   ]
  },
  {
   "cell_type": "code",
   "execution_count": 50,
   "metadata": {},
   "outputs": [
    {
     "name": "stdout",
     "output_type": "stream",
     "text": [
      "1\n",
      "28\n",
      "482\n",
      "193\n"
     ]
    }
   ],
   "source": [
    "arr = np.array([1, 28, 482, 193])\n",
    "\n",
    "for i in arr:\n",
    "    print(i)"
   ]
  },
  {
   "attachments": {
    "image.png": {
     "image/png": "[encoded data removed]"
    }
   },
   "cell_type": "markdown",
   "metadata": {},
   "source": [
    "Python (and C along with most programing) is row major.\n",
    "\n",
    "![image.png](attachment:image.png)"
   ]
  },
  {
   "cell_type": "code",
   "execution_count": 66,
   "metadata": {},
   "outputs": [
    {
     "name": "stdout",
     "output_type": "stream",
     "text": [
      "[[ 0.  1.  2.  3.  4.]\n",
      " [ 5.  6.  7.  8.  9.]\n",
      " [10. 11. 12. 13. 14.]]\n"
     ]
    }
   ],
   "source": [
    "arr = np.zeros((3,5))\n",
    "count = 0\n",
    "#Change the row\n",
    "for i in range(0, len(arr), 1):\n",
    "    #Change the columb\n",
    "    for c in range(0, len(arr[0]), 1):\n",
    "        arr[i][c] = count\n",
    "        count = count + 1\n",
    "print(arr)"
   ]
  },
  {
   "cell_type": "markdown",
   "metadata": {},
   "source": [
    "The continue command skips to the next loop without running the rest of the code in the in loop. Break will stop looping all together."
   ]
  },
  {
   "cell_type": "code",
   "execution_count": 59,
   "metadata": {},
   "outputs": [
    {
     "name": "stdout",
     "output_type": "stream",
     "text": [
      "1\n",
      "3\n",
      "4\n",
      "5\n"
     ]
    }
   ],
   "source": [
    "arr = np.array([1,2,3,4, 5, 6, 7, 8])\n",
    "\n",
    "for i in range(0, len(arr), 1):\n",
    "    if(arr[i] == 2):\n",
    "        continue\n",
    "    print(arr[i])\n",
    "    if(arr[i] == 5):\n",
    "        break"
   ]
  },
  {
   "cell_type": "markdown",
   "metadata": {},
   "source": [
    "Exercise 8]\n",
    "\n",
    "You are given the following array (random from 1 to 20):\n",
    "\n",
    "arr = np.array([15, 6, 7, 1, 6, 6, 11, 1, 17, 4, 1, 12, 9, 6, 20, 1, 9, 7, 14, 15, 4, 9, 19, 14, 8])\n",
    "\n",
    "Create two lists, one with all the numbers that are less than 10 and one that are all the numbers that are odd.\n",
    "\n",
    "Note: an empty list is []\n",
    "\n",
    "Print both lists when you are done to check.\n",
    "\n",
    "You will need to check every instance of the array once."
   ]
  },
  {
   "cell_type": "markdown",
   "metadata": {},
   "source": [
    "Exercise 9]\n",
    "\n",
    "You are given the following data:\n",
    "\n",
    "15, 6, 7, 1, 6, 6, 11, 1, 17, 4, 1, 12, 9, 6, 20, 1, 9, 7, 14, 15, 4, 9, 19, 14, 8\n",
    "\n",
    "Part 1] Find and return the largest number in the data and the location in the data that it occurs\n",
    "\n",
    "Part 2] Find and return the smallest number in the data and the location in the data that it occurs\n",
    "\n",
    "In both cases ignore repeats.\n",
    "\n",
    "Bonus: Do both parts with only one pass through the data (only one for loop)\n",
    "\n",
    "There is a standard library function that does this for you but do not use it (max() and min())."
   ]
  },
  {
   "cell_type": "markdown",
   "metadata": {},
   "source": [
    "Exercise 10]\n",
    "\n",
    "You are given two data sets, a and b.\n",
    "\n",
    "a: 1, 1, 2, 3, 5, 8, 13, 21, 34, 55, 89\n",
    "\n",
    "b: 1, 2, 3, 4, 5, 6, 7, 8, 9, 10, 11, 12, 13\n",
    "\n",
    "Create a list that contains every element in a that is also in b.\n",
    "\n",
    "Print this list afterwards.\n",
    "\n",
    "Hint: You will need a nested for loop."
   ]
  },
  {
   "cell_type": "markdown",
   "metadata": {},
   "source": [
    "You have used several functions from the standard library and common imported libraries by now. Sometimes we want to create our own functions to make it easy to run a commonly used part of the program multiple times. If wanted, we can even create our own libraries.\n",
    "\n",
    "Often, we want to split our program into many functions for better organization.\n",
    "\n",
    "def foo(parameters, defaultParameters=\"Default\"):"
   ]
  },
  {
   "cell_type": "code",
   "execution_count": 52,
   "metadata": {},
   "outputs": [
    {
     "name": "stdout",
     "output_type": "stream",
     "text": [
      "3\n",
      "1\n"
     ]
    }
   ],
   "source": [
    "def ourFunction(number1, number2, boolean1):\n",
    "    if(boolean1 == True):\n",
    "        #return ends the function and give the output\n",
    "        return number1 + number2\n",
    "    return number1 - number2\n",
    "\n",
    "print(ourFunction(1, 2, True))\n",
    "print(ourFunction(3, 2, False))"
   ]
  },
  {
   "cell_type": "code",
   "execution_count": 53,
   "metadata": {},
   "outputs": [
    {
     "name": "stdout",
     "output_type": "stream",
     "text": [
      "3\n",
      "1\n"
     ]
    }
   ],
   "source": [
    "def ourFunction(number1, number2, boolean1=True):\n",
    "    if(boolean1 == True):\n",
    "        #return ends the function and give the output\n",
    "        return number1 + number2\n",
    "    return number1 - number2\n",
    "\n",
    "print(ourFunction(1, 2))\n",
    "print(ourFunction(3, 2, False))"
   ]
  },
  {
   "cell_type": "code",
   "execution_count": 56,
   "metadata": {},
   "outputs": [
    {
     "name": "stdout",
     "output_type": "stream",
     "text": [
      "21\n",
      "21\n"
     ]
    }
   ],
   "source": [
    "#This already exists in the standard library sum()\n",
    "arr = np.array([1,2,3,4, 5, 6])\n",
    "\n",
    "def summation(arr):\n",
    "    a = 0\n",
    "    for i in range(0, len(arr), 1):\n",
    "        a = a + arr[i]\n",
    "    return a\n",
    "\n",
    "print(summation(arr))\n",
    "print(sum(arr))"
   ]
  },
  {
   "cell_type": "markdown",
   "metadata": {},
   "source": [
    "Exercise 11]\n",
    "\n",
    "Create a function that sums two integers given and rounds to the nearest 10s place. For instance, 7 + 28 = 40 and 187 + 4 = 190. The difficulty is getting the ones place of an integer. Remember the math operations showed here."
   ]
  },
  {
   "cell_type": "markdown",
   "metadata": {},
   "source": [
    "Note on objects\n",
    "\n",
    "An object is a way to organize a section of code. An object \"hold\" any number of variables, arrays of variables and functions. An object is created holding these things. You have already been using objects.\n",
    "\n",
    "When you import a library, you import an object that holds all the functions in the library.\n",
    "\n",
    "The thing that holds the data types in python is a small object.\n",
    "\n",
    "A list is also an object.\n",
    "\n",
    "An array is not an object because it is made in C, which does not have objects.\n",
    "\n",
    "Objects have a '.' operator that allows you to access the things the object is holding. That is why we import matplotlib.pyplot. We want matplotlib but not all of it as not all the matplotlib functions are helpful. So, we import specifically the pyplot (plotting) part contained inside matplotlib.\n",
    "\n",
    "This can be thought of like a file directory. You double click on a file within a file to open the file. You do this until you find the file that you want and double click on that. The '.' is like the double click. This is not how the computer handles it but gives the general idea."
   ]
  },
  {
   "cell_type": "markdown",
   "metadata": {},
   "source": [
    "There is a main function that will run immediately before anything else. Anything that is not inside of a function will run as if it is in the main function. This is for organization, so you can keep all your code outside of a function together."
   ]
  },
  {
   "cell_type": "code",
   "execution_count": 57,
   "metadata": {},
   "outputs": [
    {
     "name": "stdout",
     "output_type": "stream",
     "text": [
      "This is a statement\n"
     ]
    }
   ],
   "source": [
    "if __name__== \"__main__\":\n",
    "    print(\"This is a statement\")"
   ]
  },
  {
   "cell_type": "markdown",
   "metadata": {},
   "source": [
    "Python will run all the lines in order from start to finish, ignoring functions. Python will run the function lines when they are called, not in order. It is a good practice to order your code in the following form.\n",
    "\n",
    "imports together at the top of the code\n",
    "\n",
    "functions together next\n",
    "\n",
    "your main function (if there is one) or all program you want to run immediately"
   ]
  },
  {
   "cell_type": "code",
   "execution_count": 64,
   "metadata": {},
   "outputs": [
    {
     "name": "stdout",
     "output_type": "stream",
     "text": [
      "11\n",
      "34\n"
     ]
    }
   ],
   "source": [
    "import numpy as np\n",
    "\n",
    "def foo(num):\n",
    "    return num + 1\n",
    "\n",
    "def foo2(num):\n",
    "    return num - 3\n",
    "\n",
    "if __name__== \"__main__\":\n",
    "    print(foo(10))\n",
    "    print(foo2(37))"
   ]
  },
  {
   "cell_type": "code",
   "execution_count": 63,
   "metadata": {},
   "outputs": [
    {
     "name": "stdout",
     "output_type": "stream",
     "text": [
      "flag 1\n",
      "flag 2\n",
      "11\n",
      "34\n",
      "flag 3\n"
     ]
    }
   ],
   "source": [
    "import numpy as np\n",
    "\n",
    "print(\"flag 1\")\n",
    "\n",
    "def foo(num):\n",
    "    return num + 1\n",
    "\n",
    "def foo2(num):\n",
    "    return num - 3\n",
    "\n",
    "print(\"flag 2\")\n",
    "\n",
    "if __name__== \"__main__\":\n",
    "    print(foo(10))\n",
    "    print(foo2(37))\n",
    "    \n",
    "print(\"flag 3\")"
   ]
  },
  {
   "cell_type": "markdown",
   "metadata": {},
   "source": [
    "Exercise 12]\n",
    "\n",
    "Create a function that takes an integer that represents a weight in pounds we want to get. We have heavy blocks that weigh 5 pounds and light blocks that weighs 2 pounds. Output a tuple (light, heavy) that has the number of blocks of each type needed to achieve that weight. Use the maximum number of heavy blocks to achieve your goal."
   ]
  },
  {
   "cell_type": "markdown",
   "metadata": {},
   "source": [
    "Exercise 13]\n",
    "\n",
    "Calculate the value of pi using the following method:\n",
    "\n",
    "Take a circle with center at (0,0) and radius 1. Generate random points with an x value of -1 to 1 and y value of -1 to 1. Count all the points that fall into the circle.\n",
    "\n",
    "You will need 2 functions\n",
    "\n",
    "A function that takes in a point by its x and y coordinates and gives whether it is inside of the circle.\n",
    "\n",
    "A function that generates the numbers and counts the points inside the circle. Then return the number (inside / the number of checks) * 4. \n",
    "\n",
    "Then call the second function for several points to generate (more points = better value of pi).\n",
    "\n",
    "Hint: use (np.random.random_sample()*2) - 1 from the numpy library to get the random numbers from -1 to 1."
   ]
  },
  {
   "cell_type": "markdown",
   "metadata": {},
   "source": [
    "Possible further conversations:\n",
    "\n",
    "Recursion (clever way to program that shoves many otherwise difficult problems)\n",
    "\n",
    "Creation of objects (way to organize your code)\n",
    "\n",
    "Data Structures (NOT how to create (there’s a class for that), how to save data to optimize operations on the data using already made data structures (created similarly to arrays))."
   ]
  },
  {
   "cell_type": "markdown",
   "metadata": {},
   "source": [
    "Exercise 14]\n",
    "\n",
    "Create a function that calculates a number (given) of the fibonacci sequence in a list.\n",
    "\n",
    "fib(n) = fib(n-1) + fib(n-2)\n",
    "\n",
    "Hint: You will need to save all of your fibonacci numbers as you calcuate it but only return the last one. Keep in mind the first few numbers [1, 1, 2] for fib(3)\n",
    "\n",
    "This is an example of a program that is much easier to solve recursively (is the common example)."
   ]
  }
 ],
 "metadata": {
  "kernelspec": {
   "display_name": "Python 3",
   "language": "python",
   "name": "python3"
  },
  "language_info": {
   "codemirror_mode": {
    "name": "ipython",
    "version": 3
   },
   "file_extension": ".py",
   "mimetype": "text/x-python",
   "name": "python",
   "nbconvert_exporter": "python",
   "pygments_lexer": "ipython3",
   "version": "3.6.5"
  }
 },
 "nbformat": 4,
 "nbformat_minor": 2
}
